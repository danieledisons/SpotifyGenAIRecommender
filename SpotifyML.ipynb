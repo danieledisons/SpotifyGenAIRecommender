{
 "cells": [
  {
   "cell_type": "code",
   "execution_count": 19,
   "metadata": {},
   "outputs": [],
   "source": [
    "import pandas as pd\n",
    "from sklearn.preprocessing import StandardScaler\n",
    "from sklearn.metrics.pairwise import cosine_similarity\n",
    "import json\n",
    "import time\n",
    "from openai import OpenAI\n",
    "import os\n",
    "from dotenv import load_dotenv"
   ]
  },
  {
   "cell_type": "code",
   "execution_count": 20,
   "metadata": {},
   "outputs": [],
   "source": [
    "# Load environment variables from .env file\n",
    "load_dotenv()\n",
    "# Get the API key from the environment variable\n",
    "api_key = os.getenv('OPENAI_API_KEY')"
   ]
  },
  {
   "cell_type": "code",
   "execution_count": 3,
   "metadata": {},
   "outputs": [
    {
     "data": {
      "text/html": [
       "<div>\n",
       "<style scoped>\n",
       "    .dataframe tbody tr th:only-of-type {\n",
       "        vertical-align: middle;\n",
       "    }\n",
       "\n",
       "    .dataframe tbody tr th {\n",
       "        vertical-align: top;\n",
       "    }\n",
       "\n",
       "    .dataframe thead th {\n",
       "        text-align: right;\n",
       "    }\n",
       "</style>\n",
       "<table border=\"1\" class=\"dataframe\">\n",
       "  <thead>\n",
       "    <tr style=\"text-align: right;\">\n",
       "      <th></th>\n",
       "      <th>track_id</th>\n",
       "      <th>track_name</th>\n",
       "      <th>track_artist</th>\n",
       "      <th>track_popularity</th>\n",
       "      <th>track_album_id</th>\n",
       "      <th>track_album_name</th>\n",
       "      <th>track_album_release_date</th>\n",
       "      <th>playlist_name</th>\n",
       "      <th>playlist_id</th>\n",
       "      <th>playlist_genre</th>\n",
       "      <th>...</th>\n",
       "      <th>key</th>\n",
       "      <th>loudness</th>\n",
       "      <th>mode</th>\n",
       "      <th>speechiness</th>\n",
       "      <th>acousticness</th>\n",
       "      <th>instrumentalness</th>\n",
       "      <th>liveness</th>\n",
       "      <th>valence</th>\n",
       "      <th>tempo</th>\n",
       "      <th>duration_ms</th>\n",
       "    </tr>\n",
       "  </thead>\n",
       "  <tbody>\n",
       "    <tr>\n",
       "      <th>0</th>\n",
       "      <td>6f807x0ima9a1j3VPbc7VN</td>\n",
       "      <td>I Don't Care (with Justin Bieber) - Loud Luxur...</td>\n",
       "      <td>Ed Sheeran</td>\n",
       "      <td>66</td>\n",
       "      <td>2oCs0DGTsRO98Gh5ZSl2Cx</td>\n",
       "      <td>I Don't Care (with Justin Bieber) [Loud Luxury...</td>\n",
       "      <td>14/06/2019</td>\n",
       "      <td>Pop Remix</td>\n",
       "      <td>37i9dQZF1DXcZDD7cfEKhW</td>\n",
       "      <td>pop</td>\n",
       "      <td>...</td>\n",
       "      <td>6</td>\n",
       "      <td>-2.634</td>\n",
       "      <td>1</td>\n",
       "      <td>0.0583</td>\n",
       "      <td>0.1020</td>\n",
       "      <td>0.000000</td>\n",
       "      <td>0.0653</td>\n",
       "      <td>0.518</td>\n",
       "      <td>122.036</td>\n",
       "      <td>194754</td>\n",
       "    </tr>\n",
       "    <tr>\n",
       "      <th>1</th>\n",
       "      <td>0r7CVbZTWZgbTCYdfa2P31</td>\n",
       "      <td>Memories - Dillon Francis Remix</td>\n",
       "      <td>Maroon 5</td>\n",
       "      <td>67</td>\n",
       "      <td>63rPSO264uRjW1X5E6cWv6</td>\n",
       "      <td>Memories (Dillon Francis Remix)</td>\n",
       "      <td>13/12/2019</td>\n",
       "      <td>Pop Remix</td>\n",
       "      <td>37i9dQZF1DXcZDD7cfEKhW</td>\n",
       "      <td>pop</td>\n",
       "      <td>...</td>\n",
       "      <td>11</td>\n",
       "      <td>-4.969</td>\n",
       "      <td>1</td>\n",
       "      <td>0.0373</td>\n",
       "      <td>0.0724</td>\n",
       "      <td>0.004210</td>\n",
       "      <td>0.3570</td>\n",
       "      <td>0.693</td>\n",
       "      <td>99.972</td>\n",
       "      <td>162600</td>\n",
       "    </tr>\n",
       "    <tr>\n",
       "      <th>2</th>\n",
       "      <td>1z1Hg7Vb0AhHDiEmnDE79l</td>\n",
       "      <td>All the Time - Don Diablo Remix</td>\n",
       "      <td>Zara Larsson</td>\n",
       "      <td>70</td>\n",
       "      <td>1HoSmj2eLcsrR0vE9gThr4</td>\n",
       "      <td>All the Time (Don Diablo Remix)</td>\n",
       "      <td>05/07/2019</td>\n",
       "      <td>Pop Remix</td>\n",
       "      <td>37i9dQZF1DXcZDD7cfEKhW</td>\n",
       "      <td>pop</td>\n",
       "      <td>...</td>\n",
       "      <td>1</td>\n",
       "      <td>-3.432</td>\n",
       "      <td>0</td>\n",
       "      <td>0.0742</td>\n",
       "      <td>0.0794</td>\n",
       "      <td>0.000023</td>\n",
       "      <td>0.1100</td>\n",
       "      <td>0.613</td>\n",
       "      <td>124.008</td>\n",
       "      <td>176616</td>\n",
       "    </tr>\n",
       "    <tr>\n",
       "      <th>3</th>\n",
       "      <td>75FpbthrwQmzHlBJLuGdC7</td>\n",
       "      <td>Call You Mine - Keanu Silva Remix</td>\n",
       "      <td>The Chainsmokers</td>\n",
       "      <td>60</td>\n",
       "      <td>1nqYsOef1yKKuGOVchbsk6</td>\n",
       "      <td>Call You Mine - The Remixes</td>\n",
       "      <td>19/07/2019</td>\n",
       "      <td>Pop Remix</td>\n",
       "      <td>37i9dQZF1DXcZDD7cfEKhW</td>\n",
       "      <td>pop</td>\n",
       "      <td>...</td>\n",
       "      <td>7</td>\n",
       "      <td>-3.778</td>\n",
       "      <td>1</td>\n",
       "      <td>0.1020</td>\n",
       "      <td>0.0287</td>\n",
       "      <td>0.000009</td>\n",
       "      <td>0.2040</td>\n",
       "      <td>0.277</td>\n",
       "      <td>121.956</td>\n",
       "      <td>169093</td>\n",
       "    </tr>\n",
       "    <tr>\n",
       "      <th>4</th>\n",
       "      <td>1e8PAfcKUYoKkxPhrHqw4x</td>\n",
       "      <td>Someone You Loved - Future Humans Remix</td>\n",
       "      <td>Lewis Capaldi</td>\n",
       "      <td>69</td>\n",
       "      <td>7m7vv9wlQ4i0LFuJiE2zsQ</td>\n",
       "      <td>Someone You Loved (Future Humans Remix)</td>\n",
       "      <td>05/03/2019</td>\n",
       "      <td>Pop Remix</td>\n",
       "      <td>37i9dQZF1DXcZDD7cfEKhW</td>\n",
       "      <td>pop</td>\n",
       "      <td>...</td>\n",
       "      <td>1</td>\n",
       "      <td>-4.672</td>\n",
       "      <td>1</td>\n",
       "      <td>0.0359</td>\n",
       "      <td>0.0803</td>\n",
       "      <td>0.000000</td>\n",
       "      <td>0.0833</td>\n",
       "      <td>0.725</td>\n",
       "      <td>123.976</td>\n",
       "      <td>189052</td>\n",
       "    </tr>\n",
       "  </tbody>\n",
       "</table>\n",
       "<p>5 rows × 23 columns</p>\n",
       "</div>"
      ],
      "text/plain": [
       "                 track_id                                         track_name  \\\n",
       "0  6f807x0ima9a1j3VPbc7VN  I Don't Care (with Justin Bieber) - Loud Luxur...   \n",
       "1  0r7CVbZTWZgbTCYdfa2P31                    Memories - Dillon Francis Remix   \n",
       "2  1z1Hg7Vb0AhHDiEmnDE79l                    All the Time - Don Diablo Remix   \n",
       "3  75FpbthrwQmzHlBJLuGdC7                  Call You Mine - Keanu Silva Remix   \n",
       "4  1e8PAfcKUYoKkxPhrHqw4x            Someone You Loved - Future Humans Remix   \n",
       "\n",
       "       track_artist  track_popularity          track_album_id  \\\n",
       "0        Ed Sheeran                66  2oCs0DGTsRO98Gh5ZSl2Cx   \n",
       "1          Maroon 5                67  63rPSO264uRjW1X5E6cWv6   \n",
       "2      Zara Larsson                70  1HoSmj2eLcsrR0vE9gThr4   \n",
       "3  The Chainsmokers                60  1nqYsOef1yKKuGOVchbsk6   \n",
       "4     Lewis Capaldi                69  7m7vv9wlQ4i0LFuJiE2zsQ   \n",
       "\n",
       "                                    track_album_name track_album_release_date  \\\n",
       "0  I Don't Care (with Justin Bieber) [Loud Luxury...               14/06/2019   \n",
       "1                    Memories (Dillon Francis Remix)               13/12/2019   \n",
       "2                    All the Time (Don Diablo Remix)               05/07/2019   \n",
       "3                        Call You Mine - The Remixes               19/07/2019   \n",
       "4            Someone You Loved (Future Humans Remix)               05/03/2019   \n",
       "\n",
       "  playlist_name             playlist_id playlist_genre  ... key  loudness  \\\n",
       "0     Pop Remix  37i9dQZF1DXcZDD7cfEKhW            pop  ...   6    -2.634   \n",
       "1     Pop Remix  37i9dQZF1DXcZDD7cfEKhW            pop  ...  11    -4.969   \n",
       "2     Pop Remix  37i9dQZF1DXcZDD7cfEKhW            pop  ...   1    -3.432   \n",
       "3     Pop Remix  37i9dQZF1DXcZDD7cfEKhW            pop  ...   7    -3.778   \n",
       "4     Pop Remix  37i9dQZF1DXcZDD7cfEKhW            pop  ...   1    -4.672   \n",
       "\n",
       "   mode  speechiness  acousticness  instrumentalness  liveness  valence  \\\n",
       "0     1       0.0583        0.1020          0.000000    0.0653    0.518   \n",
       "1     1       0.0373        0.0724          0.004210    0.3570    0.693   \n",
       "2     0       0.0742        0.0794          0.000023    0.1100    0.613   \n",
       "3     1       0.1020        0.0287          0.000009    0.2040    0.277   \n",
       "4     1       0.0359        0.0803          0.000000    0.0833    0.725   \n",
       "\n",
       "     tempo  duration_ms  \n",
       "0  122.036       194754  \n",
       "1   99.972       162600  \n",
       "2  124.008       176616  \n",
       "3  121.956       169093  \n",
       "4  123.976       189052  \n",
       "\n",
       "[5 rows x 23 columns]"
      ]
     },
     "execution_count": 3,
     "metadata": {},
     "output_type": "execute_result"
    }
   ],
   "source": [
    "# Load the dataset\n",
    "df = pd.read_csv(\"spotifydata.csv\")\n",
    "df.head()\n"
   ]
  },
  {
   "cell_type": "code",
   "execution_count": 4,
   "metadata": {},
   "outputs": [
    {
     "name": "stderr",
     "output_type": "stream",
     "text": [
      "/var/folders/sd/np3j_g_n2w1_gvgj9d06vd4w0000gn/T/ipykernel_46929/3240899042.py:12: SettingWithCopyWarning: \n",
      "A value is trying to be set on a copy of a slice from a DataFrame\n",
      "\n",
      "See the caveats in the documentation: https://pandas.pydata.org/pandas-docs/stable/user_guide/indexing.html#returning-a-view-versus-a-copy\n",
      "  df_filtered.dropna(inplace=True)\n",
      "/var/folders/sd/np3j_g_n2w1_gvgj9d06vd4w0000gn/T/ipykernel_46929/3240899042.py:16: SettingWithCopyWarning: \n",
      "A value is trying to be set on a copy of a slice from a DataFrame.\n",
      "Try using .loc[row_indexer,col_indexer] = value instead\n",
      "\n",
      "See the caveats in the documentation: https://pandas.pydata.org/pandas-docs/stable/user_guide/indexing.html#returning-a-view-versus-a-copy\n",
      "  df_filtered[features] = scaler.fit_transform(df_filtered[features])\n"
     ]
    }
   ],
   "source": [
    "# Select relevant features for content-based filtering\n",
    "features = [\"danceability\", \"energy\", \"key\", \"loudness\", \"mode\", \"speechiness\", \"acousticness\", \n",
    "            \"instrumentalness\", \"liveness\", \"valence\", \"tempo\", \"duration_ms\"]\n",
    "\n",
    "# Drop non-numeric and irrelevant columns\n",
    "df_filtered = df[[\"track_id\", \"track_name\", \"track_artist\"] + features]\n",
    "\n",
    "# Remove duplicates based on track_name\n",
    "# df_filtered = df_filtered.drop_duplicates(subset=\"track_name\")\n",
    "\n",
    "# Handle missing values\n",
    "df_filtered.dropna(inplace=True)\n",
    "\n",
    "# Normalize feature values\n",
    "scaler = StandardScaler()\n",
    "df_filtered[features] = scaler.fit_transform(df_filtered[features])"
   ]
  },
  {
   "cell_type": "code",
   "execution_count": 5,
   "metadata": {},
   "outputs": [],
   "source": [
    "# Compute cosine similarity\n",
    "similarity_matrix = cosine_similarity(df_filtered[features])"
   ]
  },
  {
   "cell_type": "code",
   "execution_count": 6,
   "metadata": {},
   "outputs": [],
   "source": [
    "# Function to recommend tracks\n",
    "def recommend_tracks(track_name, n=5):\n",
    "    if track_name not in df_filtered[\"track_name\"].values:\n",
    "        return \"Track not found in the dataset.\"\n",
    "    \n",
    "    idx = df_filtered[df_filtered[\"track_name\"] == track_name].index[0]\n",
    "    similarity_scores = list(enumerate(similarity_matrix[idx]))\n",
    "    similarity_scores = sorted(similarity_scores, key=lambda x: x[1], reverse=True)\n",
    "    \n",
    "    # Get recommended tracks and also capture their similarity scores\n",
    "    recommended = []\n",
    "    for i in similarity_scores[1:n+1]:\n",
    "        rec_track = df_filtered.iloc[i[0]][\"track_name\"]\n",
    "        rec_track_artist = df_filtered.iloc[i[0]][\"track_artist\"]\n",
    "        score = i[1]\n",
    "        recommended.append((rec_track, score))\n",
    "    return recommended"
   ]
  },
  {
   "cell_type": "code",
   "execution_count": 16,
   "metadata": {},
   "outputs": [],
   "source": [
    "input_track = \"SUBEME LA RADIO\""
   ]
  },
  {
   "cell_type": "code",
   "execution_count": 17,
   "metadata": {},
   "outputs": [
    {
     "name": "stdout",
     "output_type": "stream",
     "text": [
      "Recommended Tracks and Similarity Scores:\n",
      "[('El Perdedor', 0.9999999999999999), ('Pecado y Religión', 0.9577140959801139), ('Me Reclama', 0.9534077150064924), ('Piensan', 0.9443708331433276), ('Piensan', 0.9443708331433276)]\n"
     ]
    }
   ],
   "source": [
    "# Example usage: Get recommended tracks for a specific track.\n",
    "recommended_tracks = recommend_tracks(input_track)\n",
    "print(\"Recommended Tracks and Similarity Scores:\")\n",
    "print(recommended_tracks)"
   ]
  },
  {
   "cell_type": "code",
   "execution_count": 18,
   "metadata": {},
   "outputs": [],
   "source": [
    "# Build a string that includes recommended tracks and their cosine similarity scores.\n",
    "report_text = f\"For the track {input_track}', the following tracks were recommended based on cosine similarity:\\n\\n\"\n",
    "for track, score in recommended_tracks:\n",
    "    report_text += f\"- {track} (Similarity Score: {score:.3f})\\n\"\n",
    "report_text += \"\\nPlease explain why these songs were recommended based on the cosine similarity of features such as danceability, energy, tempo, and others. Take about each of the songs that were recommended in a report format and relate it to their similarity score. Approach it like your talking to users that use music streaming platforms like Spotify.\""
   ]
  },
  {
   "cell_type": "code",
   "execution_count": 21,
   "metadata": {},
   "outputs": [],
   "source": [
    "# Step 1: Initialize OpenAI client\n",
    "client = OpenAI(api_key=api_key)\n"
   ]
  },
  {
   "cell_type": "code",
   "execution_count": 20,
   "metadata": {},
   "outputs": [],
   "source": [
    "# Create an assistant\n",
    "assistant = client.beta.assistants.create(\n",
    "    name=\"SpotifyAiAssistant\",\n",
    "    instructions=\"Assist in creating and improving a recommendation system using cosine similarity to recommend tracks based on feature similarity, and provide explanations of the recommendations in an easily understandable way for users. Answer questions briefly, in a sentence or less.\",\n",
    "    model=\"gpt-4o\",\n",
    ")"
   ]
  },
  {
   "cell_type": "code",
   "execution_count": 21,
   "metadata": {},
   "outputs": [],
   "source": [
    "# Step 2: Create a thread for the conversation\n",
    "thread = client.beta.threads.create()\n",
    "\n",
    "# Step 3: Create a user message with the report text as input.\n",
    "message = client.beta.threads.messages.create(\n",
    "    thread_id=thread.id,\n",
    "    role=\"user\",\n",
    "    content=report_text,\n",
    ")"
   ]
  },
  {
   "cell_type": "code",
   "execution_count": 22,
   "metadata": {},
   "outputs": [],
   "source": [
    "# Step 4: Execute the run for the assistant\n",
    "run = client.beta.threads.runs.create(\n",
    "    thread_id=thread.id,\n",
    "    assistant_id=assistant.id,\n",
    ")"
   ]
  },
  {
   "cell_type": "code",
   "execution_count": 23,
   "metadata": {},
   "outputs": [],
   "source": [
    "# Step 5: Wait for the run to complete\n",
    "time.sleep(5)"
   ]
  },
  {
   "cell_type": "code",
   "execution_count": 24,
   "metadata": {},
   "outputs": [
    {
     "name": "stdout",
     "output_type": "stream",
     "text": [
      "Messages returned: [Message(id='msg_7DlmrJeySqdoKBGSEnSlBXfL', assistant_id='asst_sp0SRbXgzoi2uKNPPHhi6JMK', attachments=[], completed_at=None, content=[TextContentBlock(text=Text(annotations=[], value='Certainly! Here\\'s a breakdown of the recommended tracks for \"SUBEME LA RADIO,\" explained in a user-friendly way:\\n\\n**1. El Perdedor (Similarity Score: 1.000)**\\n- **Explanation:** \"El Perdedor\" is an excellent match because it shares almost identical features with \"SUBEME LA RADIO,\" making it a perfect choice if you enjoyed the danceable rhythms and energetic vibes.\\n\\n**2. Pecado y Religión (Similarity Score: 0.958)**\\n- **Explanation:** With a high similarity score, \"Pecado y Religión\" closely matches the song\\'s danceability and tempo, providing a similarly engaging beat and energy level.\\n\\n**3. Me Reclama (Similarity Score: 0.953)**\\n- **Explanation:** Known for a similar dynamic feel and catchy tempo, \"Me Reclama\" promises an energetic and lively listening experience akin to \"SUBEME LA RADIO.\"\\n\\n**4. Piensan (Similarity Score: 0.944)**\\n- **Explanation:** Despite appearing twice, \"Piensan\" consistently matches the key characteristics of energy and rhythm, offering listeners the same vibrant and upbeat experience.\\n\\nThese recommendations were made by evaluating features such as danceability, energy, and tempo, and show you songs that have a similar feel and vibe to what you already enjoy!'), type='text')], created_at=1742963495, incomplete_at=None, incomplete_details=None, metadata={}, object='thread.message', role='assistant', run_id='run_6vHacLLLRUcwxAfudqcmuSwN', status=None, thread_id='thread_an6JRAawRSIS1A9149o6YWdf')]\n"
     ]
    }
   ],
   "source": [
    "# Step 6: Retrieve the messages added after the user message\n",
    "messages = client.beta.threads.messages.list(\n",
    "    thread_id=thread.id,\n",
    "    order=\"asc\",  # Or \"desc\" if you want the newest first\n",
    "    after=message.id\n",
    ")\n",
    "\n",
    "# Check if messages are returned\n",
    "print(\"Messages returned:\", messages.data)\n"
   ]
  },
  {
   "cell_type": "code",
   "execution_count": 25,
   "metadata": {},
   "outputs": [
    {
     "name": "stdout",
     "output_type": "stream",
     "text": [
      "AI Explanation Report:\n",
      "Certainly! Here's a breakdown of the recommended tracks for \"SUBEME LA RADIO,\" explained in a user-friendly way:\n",
      "\n",
      "**1. El Perdedor (Similarity Score: 1.000)**\n",
      "- **Explanation:** \"El Perdedor\" is an excellent match because it shares almost identical features with \"SUBEME LA RADIO,\" making it a perfect choice if you enjoyed the danceable rhythms and energetic vibes.\n",
      "\n",
      "**2. Pecado y Religión (Similarity Score: 0.958)**\n",
      "- **Explanation:** With a high similarity score, \"Pecado y Religión\" closely matches the song's danceability and tempo, providing a similarly engaging beat and energy level.\n",
      "\n",
      "**3. Me Reclama (Similarity Score: 0.953)**\n",
      "- **Explanation:** Known for a similar dynamic feel and catchy tempo, \"Me Reclama\" promises an energetic and lively listening experience akin to \"SUBEME LA RADIO.\"\n",
      "\n",
      "**4. Piensan (Similarity Score: 0.944)**\n",
      "- **Explanation:** Despite appearing twice, \"Piensan\" consistently matches the key characteristics of energy and rhythm, offering listeners the same vibrant and upbeat experience.\n",
      "\n",
      "These recommendations were made by evaluating features such as danceability, energy, and tempo, and show you songs that have a similar feel and vibe to what you already enjoy!\n"
     ]
    }
   ],
   "source": [
    "# If there are messages, proceed with extracting the reply\n",
    "if messages.data:\n",
    "    message = messages.data[0]  # Access the first message in the list\n",
    "    ai_reply = message.content[0].text.value\n",
    "    print(\"AI Explanation Report:\")\n",
    "    print(ai_reply)\n",
    "else:\n",
    "    print(\"No messages found yet.\")"
   ]
  }
 ],
 "metadata": {
  "kernelspec": {
   "display_name": "tfconda",
   "language": "python",
   "name": "python3"
  },
  "language_info": {
   "codemirror_mode": {
    "name": "ipython",
    "version": 3
   },
   "file_extension": ".py",
   "mimetype": "text/x-python",
   "name": "python",
   "nbconvert_exporter": "python",
   "pygments_lexer": "ipython3",
   "version": "3.10.8"
  }
 },
 "nbformat": 4,
 "nbformat_minor": 2
}
